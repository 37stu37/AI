{
  "nbformat": 4,
  "nbformat_minor": 0,
  "metadata": {
    "colab": {
      "name": "revisionPhD_Dr.ipynb",
      "provenance": [],
      "collapsed_sections": [],
      "authorship_tag": "ABX9TyMgh4jDcuGSpo6eyeA1qUem",
      "include_colab_link": true
    },
    "kernelspec": {
      "name": "python3",
      "display_name": "Python 3"
    }
  },
  "cells": [
    {
      "cell_type": "markdown",
      "metadata": {
        "id": "view-in-github",
        "colab_type": "text"
      },
      "source": [
        "<a href=\"https://colab.research.google.com/github/37stu37/AI/blob/master/revisionPhD_Dr.ipynb\" target=\"_parent\"><img src=\"https://colab.research.google.com/assets/colab-badge.svg\" alt=\"Open In Colab\"/></a>"
      ]
    },
    {
      "cell_type": "code",
      "metadata": {
        "id": "dMUAwfMr6l-s",
        "colab_type": "code",
        "colab": {
          "base_uri": "https://localhost:8080/",
          "height": 71
        },
        "outputId": "16bc3b12-dac2-460c-822c-0cb9619f03ce"
      },
      "source": [
        "import numpy as np\n",
        "import matplotlib.pyplot as plt\n",
        "import seaborn as sns"
      ],
      "execution_count": 1,
      "outputs": [
        {
          "output_type": "stream",
          "text": [
            "/usr/local/lib/python3.6/dist-packages/statsmodels/tools/_testing.py:19: FutureWarning: pandas.util.testing is deprecated. Use the functions in the public API at pandas.testing instead.\n",
            "  import pandas.util.testing as tm\n"
          ],
          "name": "stderr"
        }
      ]
    },
    {
      "cell_type": "code",
      "metadata": {
        "id": "HoGQ2Bbm61xl",
        "colab_type": "code",
        "colab": {
          "base_uri": "https://localhost:8080/",
          "height": 85
        },
        "outputId": "ef06fafa-0ab6-4d22-de83-8b5c77ab0f21"
      },
      "source": [
        "pgv = np.arange(0, 600, 1)\n",
        "mmi = 1.215 + ((9.796 - 1.215)/(1+(4.128/pgv)**0.524))\n",
        "\n",
        "drHouse = [(21*10**(-12/(m-4))) if m < 7 else (10**(1.2*m + (-11.078))) for m in mmi]\n",
        "\n",
        "drHouse[0] = 0\n",
        "drHouse[1] = 0"
      ],
      "execution_count": 2,
      "outputs": [
        {
          "output_type": "stream",
          "text": [
            "/usr/local/lib/python3.6/dist-packages/ipykernel_launcher.py:2: RuntimeWarning: divide by zero encountered in true_divide\n",
            "  \n",
            "/usr/local/lib/python3.6/dist-packages/ipykernel_launcher.py:4: RuntimeWarning: overflow encountered in double_scalars\n",
            "  after removing the cwd from sys.path.\n"
          ],
          "name": "stderr"
        }
      ]
    },
    {
      "cell_type": "code",
      "metadata": {
        "id": "wchDeJhJ64-m",
        "colab_type": "code",
        "colab": {
          "base_uri": "https://localhost:8080/",
          "height": 310
        },
        "outputId": "bdeb20bb-c25c-4b14-b3f0-97c04347bca6"
      },
      "source": [
        "plt.style.use('seaborn-whitegrid')\n",
        "fig, ax1 = plt.subplots(nrows=1, ncols=1, sharex=True, sharey=True)\n",
        "\n",
        "sns.lineplot(pgv, drHouse, color='red', ax=ax1)\n",
        "\n",
        "ax1.set_xlabel('PGV(cm/s)')\n",
        "ax1.set_ylabel('Damage Ratio')\n",
        "\n",
        "plt.legend()"
      ],
      "execution_count": 3,
      "outputs": [
        {
          "output_type": "stream",
          "text": [
            "No handles with labels found to put in legend.\n"
          ],
          "name": "stderr"
        },
        {
          "output_type": "execute_result",
          "data": {
            "text/plain": [
              "<matplotlib.legend.Legend at 0x7f01b4977c18>"
            ]
          },
          "metadata": {
            "tags": []
          },
          "execution_count": 3
        },
        {
          "output_type": "display_data",
          "data": {
            "image/png": "[encoded data removed]",
            "text/plain": [
              "<Figure size 432x288 with 1 Axes>"
            ]
          },
          "metadata": {
            "tags": []
          }
        }
      ]
    },
    {
      "cell_type": "code",
      "metadata": {
        "id": "yHlSQZyk9QrV",
        "colab_type": "code",
        "colab": {}
      },
      "source": [
        "# road damage\n",
        "multiplier = 0.1333*mmi + 0.1333\n",
        "# Dr ratio for liquefaction (based on GNS Cousins report)\n",
        "drLiq = drHouse * multiplier\n",
        "drLiq = np.where(drLiq > 1, 1, drLiq)"
      ],
      "execution_count": 4,
      "outputs": []
    },
    {
      "cell_type": "code",
      "metadata": {
        "id": "4iiKU8p_7mnw",
        "colab_type": "code",
        "colab": {
          "base_uri": "https://localhost:8080/",
          "height": 310
        },
        "outputId": "6d76db94-29a6-456a-a9ba-bd6b1711c4c4"
      },
      "source": [
        "plt.style.use('seaborn-whitegrid')\n",
        "fig, ax1 = plt.subplots(nrows=1, ncols=1, sharex=True, sharey=True)\n",
        "\n",
        "sns.lineplot(pgv, drLiq, color='red', ax=ax1)\n",
        "\n",
        "ax1.set_xlabel('PGV(cm/s)')\n",
        "ax1.set_ylabel('Damage Ratio')\n",
        "\n",
        "plt.legend()"
      ],
      "execution_count": 5,
      "outputs": [
        {
          "output_type": "stream",
          "text": [
            "No handles with labels found to put in legend.\n"
          ],
          "name": "stderr"
        },
        {
          "output_type": "execute_result",
          "data": {
            "text/plain": [
              "<matplotlib.legend.Legend at 0x7f018c5197b8>"
            ]
          },
          "metadata": {
            "tags": []
          },
          "execution_count": 5
        },
        {
          "output_type": "display_data",
          "data": {
            "image/png": "[encoded data removed]",
            "text/plain": [
              "<Figure size 432x288 with 1 Axes>"
            ]
          },
          "metadata": {
            "tags": []
          }
        }
      ]
    },
    {
      "cell_type": "code",
      "metadata": {
        "id": "oRQWgSEd7n8O",
        "colab_type": "code",
        "colab": {}
      },
      "source": [
        "## Flood\n",
        "# from NIWA riskscape report\n",
        "w_depthHouse = [0, 0.612440191, 1.220095694, 2.133971292, 2.741626794, 3, 3.5, 5]\n",
        "dr_flHouse = [0, 0.339982123, 0.50106157, 0.680703507, 0.770574163, 0.802306115, 1, 1]\n",
        "w_depthRoad = [0, 1, 3, 4, 5]\n",
        "dr_flRoad = [0, 0.01, 0.1, 0.2, 0.5]"
      ],
      "execution_count": 26,
      "outputs": []
    },
    {
      "cell_type": "code",
      "metadata": {
        "colab_type": "code",
        "id": "IxXz0Ps479G3",
        "colab": {
          "base_uri": "https://localhost:8080/",
          "height": 310
        },
        "outputId": "26d94c55-0ec1-488f-f710-6e787f514fae"
      },
      "source": [
        "plt.style.use('seaborn-whitegrid')\n",
        "fig, ax1 = plt.subplots(nrows=1, ncols=1, sharex=True, sharey=True)\n",
        "\n",
        "sns.lineplot(w_depthHouse, dr_flHouse, color='blue', ax=ax1)\n",
        "\n",
        "ax1.set_xlabel('Water Depth(m)')\n",
        "ax1.set_ylabel('Damage Ratio')\n",
        "plt.legend()"
      ],
      "execution_count": 27,
      "outputs": [
        {
          "output_type": "stream",
          "text": [
            "No handles with labels found to put in legend.\n"
          ],
          "name": "stderr"
        },
        {
          "output_type": "execute_result",
          "data": {
            "text/plain": [
              "<matplotlib.legend.Legend at 0x7f018bba1c18>"
            ]
          },
          "metadata": {
            "tags": []
          },
          "execution_count": 27
        },
        {
          "output_type": "display_data",
          "data": {
            "image/png": "[encoded data removed]",
            "text/plain": [
              "<Figure size 432x288 with 1 Axes>"
            ]
          },
          "metadata": {
            "tags": []
          }
        }
      ]
    },
    {
      "cell_type": "code",
      "metadata": {
        "id": "wT3qWNxL8jAw",
        "colab_type": "code",
        "colab": {
          "base_uri": "https://localhost:8080/",
          "height": 310
        },
        "outputId": "923ea898-adee-4a2a-80eb-867254e297d0"
      },
      "source": [
        "plt.style.use('seaborn-whitegrid')\n",
        "fig, ax1 = plt.subplots(nrows=1, ncols=1, sharex=True, sharey=True)\n",
        "\n",
        "sns.lineplot(w_depthRoad, dr_flRoad, color='blue', ax=ax1)\n",
        "\n",
        "ax1.set_xlabel('Water Depth(m)')\n",
        "ax1.set_ylabel('Damage Ratio')\n",
        "\n",
        "plt.legend()"
      ],
      "execution_count": 28,
      "outputs": [
        {
          "output_type": "stream",
          "text": [
            "No handles with labels found to put in legend.\n"
          ],
          "name": "stderr"
        },
        {
          "output_type": "execute_result",
          "data": {
            "text/plain": [
              "<matplotlib.legend.Legend at 0x7f018c47c438>"
            ]
          },
          "metadata": {
            "tags": []
          },
          "execution_count": 28
        },
        {
          "output_type": "display_data",
          "data": {
            "image/png": "[encoded data removed]",
            "text/plain": [
              "<Figure size 432x288 with 1 Axes>"
            ]
          },
          "metadata": {
            "tags": []
          }
        }
      ]
    },
    {
      "cell_type": "code",
      "metadata": {
        "id": "-_ss4BB689ds",
        "colab_type": "code",
        "colab": {}
      },
      "source": [
        ""
      ],
      "execution_count": 28,
      "outputs": []
    }
  ]
}