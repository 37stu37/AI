{
  "nbformat": 4,
  "nbformat_minor": 0,
  "metadata": {
    "colab": {
      "name": "ctgan.ipynb",
      "provenance": [],
      "mount_file_id": "1Qe-HnGSNPoKdpd86IEw4ZkmfuW1pVWqT",
      "authorship_tag": "ABX9TyPjUrIB3BPeNuzt36INfqkQ",
      "include_colab_link": true
    },
    "kernelspec": {
      "name": "python3",
      "display_name": "Python 3"
    },
    "accelerator": "GPU"
  },
  "cells": [
    {
      "cell_type": "markdown",
      "metadata": {
        "id": "view-in-github",
        "colab_type": "text"
      },
      "source": [
        "<a href=\"https://colab.research.google.com/github/37stu37/AI/blob/master/ctgan.ipynb\" target=\"_parent\"><img src=\"https://colab.research.google.com/assets/colab-badge.svg\" alt=\"Open In Colab\"/></a>"
      ]
    },
    {
      "cell_type": "markdown",
      "metadata": {
        "id": "4nhtkMOdu0ux",
        "colab_type": "text"
      },
      "source": [
        "**import**\n",
        "---\n",
        "\n"
      ]
    },
    {
      "cell_type": "code",
      "metadata": {
        "id": "OlVx1O6wul0O",
        "colab_type": "code",
        "colab": {}
      },
      "source": [
        "import pandas as pd\n",
        "import pathlib as Path"
      ],
      "execution_count": 0,
      "outputs": []
    },
    {
      "cell_type": "code",
      "metadata": {
        "id": "Mn3U7DWcvQqe",
        "colab_type": "code",
        "colab": {
          "base_uri": "https://localhost:8080/",
          "height": 34
        },
        "outputId": "1e9c86d2-e00c-4039-831b-d2857baf6427"
      },
      "source": [
        "%cd /content/drive/My Drive/Colab Notebooks/01_githubRepo/GNS_GAN"
      ],
      "execution_count": 2,
      "outputs": [
        {
          "output_type": "stream",
          "text": [
            "/content/drive/My Drive/Colab Notebooks/01_githubRepo/GNS_GAN\n"
          ],
          "name": "stdout"
        }
      ]
    },
    {
      "cell_type": "code",
      "metadata": {
        "id": "1I8FeT9uvBRR",
        "colab_type": "code",
        "colab": {}
      },
      "source": [
        "outputDir = '../../02_output'"
      ],
      "execution_count": 0,
      "outputs": []
    },
    {
      "cell_type": "code",
      "metadata": {
        "id": "QlAGPJgdvIWP",
        "colab_type": "code",
        "colab": {}
      },
      "source": [
        "data = pd.read_parquet(outputDir + '/smallMonteCarlo2500runs.parquet')"
      ],
      "execution_count": 0,
      "outputs": []
    },
    {
      "cell_type": "markdown",
      "metadata": {
        "id": "fe8m30YFxnuh",
        "colab_type": "text"
      },
      "source": [
        "**Data processing**\n",
        "---\n",
        "\n"
      ]
    },
    {
      "cell_type": "code",
      "metadata": {
        "id": "kwRvoR5qxY4C",
        "colab_type": "code",
        "colab": {}
      },
      "source": [
        "data.reset_index(inplace=True)\n",
        "data.drop(['index', 'scenario', 'pid'], axis=1, inplace=True)"
      ],
      "execution_count": 0,
      "outputs": []
    },
    {
      "cell_type": "code",
      "metadata": {
        "id": "lQSic0rdz635",
        "colab_type": "code",
        "colab": {
          "base_uri": "https://localhost:8080/",
          "height": 34
        },
        "outputId": "53123151-4deb-44ac-9b73-8d3e2915e27f"
      },
      "source": [
        "len(data) #; data.columns"
      ],
      "execution_count": 6,
      "outputs": [
        {
          "output_type": "execute_result",
          "data": {
            "text/plain": [
              "7864124"
            ]
          },
          "metadata": {
            "tags": []
          },
          "execution_count": 6
        }
      ]
    },
    {
      "cell_type": "code",
      "metadata": {
        "id": "KXQLopazz34r",
        "colab_type": "code",
        "colab": {}
      },
      "source": [
        "trainingSample = data.sample(n=70000)\n",
        "discrete_columns = ['source', 'target']"
      ],
      "execution_count": 0,
      "outputs": []
    },
    {
      "cell_type": "code",
      "metadata": {
        "id": "3JvOa3Vm6lEu",
        "colab_type": "code",
        "colab": {
          "base_uri": "https://localhost:8080/",
          "height": 187
        },
        "outputId": "9bb2ef11-1774-4a6c-d8a7-a081b3fd8020"
      },
      "source": [
        "trainingSample.info()"
      ],
      "execution_count": 8,
      "outputs": [
        {
          "output_type": "stream",
          "text": [
            "<class 'pandas.core.frame.DataFrame'>\n",
            "Int64Index: 70000 entries, 7738481 to 5877497\n",
            "Data columns (total 5 columns):\n",
            "source        70000 non-null int64\n",
            "target        70000 non-null int64\n",
            "distance      70000 non-null float64\n",
            "bearing       70000 non-null float64\n",
            "IgnProb_bl    70000 non-null float64\n",
            "dtypes: float64(3), int64(2)\n",
            "memory usage: 3.2 MB\n"
          ],
          "name": "stdout"
        }
      ]
    },
    {
      "cell_type": "markdown",
      "metadata": {
        "id": "wtNlfK8E3wJS",
        "colab_type": "text"
      },
      "source": [
        "**CTGAN**"
      ]
    },
    {
      "cell_type": "code",
      "metadata": {
        "id": "tFDUytOdx20X",
        "colab_type": "code",
        "colab": {}
      },
      "source": [
        "%%capture\n",
        "!pip install ctgan "
      ],
      "execution_count": 0,
      "outputs": []
    },
    {
      "cell_type": "code",
      "metadata": {
        "id": "NVYsNMQm0nt4",
        "colab_type": "code",
        "colab": {}
      },
      "source": [
        "%%time\n",
        "from ctgan import CTGANSynthesizer\n",
        "\n",
        "ctgan = CTGANSynthesizer()\n",
        "ctgan.fit(trainingSample, discrete_columns, epochs=75)"
      ],
      "execution_count": 0,
      "outputs": []
    },
    {
      "cell_type": "markdown",
      "metadata": {
        "id": "jKu1r_Ri1LT4",
        "colab_type": "text"
      },
      "source": [
        "**Generate synthetic data**"
      ]
    },
    {
      "cell_type": "code",
      "metadata": {
        "id": "PpYMLRRZ0umh",
        "colab_type": "code",
        "colab": {
          "base_uri": "https://localhost:8080/",
          "height": 51
        },
        "outputId": "45947209-8460-4e13-e4f4-8ec3bed4e923"
      },
      "source": [
        "%%time\n",
        "samples = ctgan.sample(1000)"
      ],
      "execution_count": 11,
      "outputs": [
        {
          "output_type": "stream",
          "text": [
            "CPU times: user 56.1 ms, sys: 5.69 ms, total: 61.8 ms\n",
            "Wall time: 78.5 ms\n"
          ],
          "name": "stdout"
        }
      ]
    },
    {
      "cell_type": "markdown",
      "metadata": {
        "id": "4GaVJa1x9t9J",
        "colab_type": "text"
      },
      "source": [
        "**Validation**\n",
        "---\n",
        "\n"
      ]
    },
    {
      "cell_type": "code",
      "metadata": {
        "id": "rtFeIeShCrzm",
        "colab_type": "code",
        "colab": {}
      },
      "source": [
        "from FFEpostprocessing.ipynb import load_shapefile, count_fid_occurences, merge_coordinates_export_shape # comment out some def"
      ],
      "execution_count": 0,
      "outputs": []
    },
    {
      "cell_type": "code",
      "metadata": {
        "id": "ybpQw5ERFVmA",
        "colab_type": "code",
        "colab": {}
      },
      "source": [
        "shapefile = load_shapefile(\"buildings_raw.shp\", 1748570, 5425500, 1749500, 5427600) # small"
      ],
      "execution_count": 0,
      "outputs": []
    },
    {
      "cell_type": "code",
      "metadata": {
        "id": "N2omZ43CFa9W",
        "colab_type": "code",
        "colab": {}
      },
      "source": [
        "countGAN = count_fid_occurences(samples)\n",
        "countGAN = countGAN[(countGAN.source.isin(shapefile.source)) & (countGAN.target.isin(shapefile.target))]\n",
        "print(len(countGAN))\n",
        "countGAN = merge_coordinates_export_shape(count_df, gdf, \"smallBurnedBuildings\")"
      ],
      "execution_count": 0,
      "outputs": []
    }
  ]
}