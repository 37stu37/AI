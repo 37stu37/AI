{
  "nbformat": 4,
  "nbformat_minor": 0,
  "metadata": {
    "colab": {
      "name": "OpenQuake_FFE.ipynb",
      "provenance": [],
      "toc_visible": true,
      "machine_shape": "hm",
      "include_colab_link": true
    },
    "kernelspec": {
      "name": "python3",
      "display_name": "Python 3"
    }
  },
  "cells": [
    {
      "cell_type": "markdown",
      "metadata": {
        "id": "view-in-github",
        "colab_type": "text"
      },
      "source": [
        "<a href=\"https://colab.research.google.com/github/37stu37/AI/blob/master/OpenQuake_FFE.ipynb\" target=\"_parent\"><img src=\"https://colab.research.google.com/assets/colab-badge.svg\" alt=\"Open In Colab\"/></a>"
      ]
    },
    {
      "cell_type": "markdown",
      "metadata": {
        "id": "RxZNLdfcmOUm",
        "colab_type": "text"
      },
      "source": [
        "#Install Colab / OpenQuake"
      ]
    },
    {
      "cell_type": "code",
      "metadata": {
        "id": "4vYwwf5aCFKd",
        "colab_type": "code",
        "colab": {
          "base_uri": "https://localhost:8080/",
          "height": 35
        },
        "outputId": "f03d6aca-75dc-43a0-be20-8e99a5fc8fc3"
      },
      "source": [
        "from google.colab import drive\n",
        "drive.mount('/content/drive')"
      ],
      "execution_count": 9,
      "outputs": [
        {
          "output_type": "stream",
          "text": [
            "Drive already mounted at /content/drive; to attempt to forcibly remount, call drive.mount(\"/content/drive\", force_remount=True).\n"
          ],
          "name": "stdout"
        }
      ]
    },
    {
      "cell_type": "code",
      "metadata": {
        "id": "e8ON2byeXAxq",
        "colab_type": "code",
        "colab": {}
      },
      "source": [
        "%%capture\n",
        "!pip install openquake.engine"
      ],
      "execution_count": 10,
      "outputs": []
    },
    {
      "cell_type": "markdown",
      "metadata": {
        "id": "4lPmf1qpmUf_",
        "colab_type": "text"
      },
      "source": [
        "#Import libraries / paths"
      ]
    },
    {
      "cell_type": "code",
      "metadata": {
        "id": "T9Yk3bRjgmTs",
        "colab_type": "code",
        "colab": {}
      },
      "source": [
        "import openquake\n",
        "import configparser\n",
        "import os\n",
        "from pathlib import Path\n",
        "import configparser"
      ],
      "execution_count": 11,
      "outputs": []
    },
    {
      "cell_type": "code",
      "metadata": {
        "id": "4WevjMAHCdAU",
        "colab_type": "code",
        "colab": {}
      },
      "source": [
        "folder = Path('/content/drive/My Drive/Colab Notebooks/01_Repository/OpenQuake/oq ffe/oqInput_EventBasedPSHA')"
      ],
      "execution_count": 12,
      "outputs": []
    },
    {
      "cell_type": "code",
      "metadata": {
        "id": "ZtNOR9Oae93i",
        "colab_type": "code",
        "colab": {
          "base_uri": "https://localhost:8080/",
          "height": 35
        },
        "outputId": "94b9ecac-b80f-4a16-f7b9-e4e8397b9858"
      },
      "source": [
        "os.chdir(folder)\n",
        "!pwd"
      ],
      "execution_count": 13,
      "outputs": [
        {
          "output_type": "stream",
          "text": [
            "/content/drive/My Drive/Colab Notebooks/01_Repository/OpenQuake/oq ffe/oqInput_EventBasedPSHA\n"
          ],
          "name": "stdout"
        }
      ]
    },
    {
      "cell_type": "code",
      "metadata": {
        "id": "sQY6G3fEUdbq",
        "colab_type": "code",
        "colab": {
          "base_uri": "https://localhost:8080/",
          "height": 126
        },
        "outputId": "b90aef1f-1197-49aa-c25c-d1fbb6667ac6"
      },
      "source": [
        "!ls"
      ],
      "execution_count": 22,
      "outputs": [
        {
          "output_type": "stream",
          "text": [
            "gmpe_logic_tree-CVH_BNZSEE_0317-simple-LHC.xml\n",
            "job.ini\n",
            "rSHM_source-model_bk-NZBCK615_fl-F010519_mMin5pt0.xml\n",
            "source_model_logic_tree.xml\n",
            "tmp\n",
            "vs30Polygoncentroids.xml\n"
          ],
          "name": "stdout"
        }
      ]
    },
    {
      "cell_type": "markdown",
      "metadata": {
        "id": "YJE4xkrCmEiG",
        "colab_type": "text"
      },
      "source": [
        "#Run OpenQuake"
      ]
    },
    {
      "cell_type": "markdown",
      "metadata": {
        "id": "hASoJjdM19aK",
        "colab_type": "text"
      },
      "source": [
        "***Shell commands seems to be working using the ! symbol - might be possible to run OpenQuake directly from GoogleColab***\n",
        "\n",
        "\n",
        "---\n",
        "\n"
      ]
    },
    {
      "cell_type": "code",
      "metadata": {
        "id": "Uajuc5Y4q0km",
        "colab_type": "code",
        "colab": {}
      },
      "source": [
        "# !oq engine --help"
      ],
      "execution_count": 15,
      "outputs": []
    },
    {
      "cell_type": "code",
      "metadata": {
        "id": "6eBV3GslrPPu",
        "colab_type": "code",
        "colab": {}
      },
      "source": [
        "!oq engine --run job.ini --exports csv"
      ],
      "execution_count": null,
      "outputs": []
    },
    {
      "cell_type": "markdown",
      "metadata": {
        "id": "Hg38BBP2r1km",
        "colab_type": "text"
      },
      "source": [
        "# Manage Outputs"
      ]
    },
    {
      "cell_type": "code",
      "metadata": {
        "id": "oPnC9Ep0r6KC",
        "colab_type": "code",
        "colab": {
          "base_uri": "https://localhost:8080/",
          "height": 35
        },
        "outputId": "3a470925-59a5-4b42-9401-cda79a830056"
      },
      "source": [
        "folder"
      ],
      "execution_count": 25,
      "outputs": [
        {
          "output_type": "execute_result",
          "data": {
            "text/plain": [
              "PosixPath('/content/drive/My Drive/Colab Notebooks/01_Repository/OpenQuake/oq ffe/oqInput_EventBasedPSHA')"
            ]
          },
          "metadata": {
            "tags": []
          },
          "execution_count": 25
        }
      ]
    },
    {
      "cell_type": "code",
      "metadata": {
        "id": "1D8g-lYWsDhX",
        "colab_type": "code",
        "colab": {
          "base_uri": "https://localhost:8080/",
          "height": 163
        },
        "outputId": "eb270e72-0933-4172-d87d-d72ac375641a"
      },
      "source": [
        "output = folder / 'tmp'\n",
        "os.listdir(output)"
      ],
      "execution_count": 27,
      "outputs": [
        {
          "output_type": "execute_result",
          "data": {
            "text/plain": [
              "['events_2.csv',\n",
              " 'sitemesh_2.csv',\n",
              " 'gmf-data_2.csv',\n",
              " 'sigma_epsilon_2.csv',\n",
              " 'hazard_curve-mean-PGA_2.csv',\n",
              " 'quantile_curve-0.5-PGA_2.csv',\n",
              " 'quantile_curve-0.84-PGA_2.csv',\n",
              " 'ruptures_2.csv']"
            ]
          },
          "metadata": {
            "tags": []
          },
          "execution_count": 27
        }
      ]
    },
    {
      "cell_type": "markdown",
      "metadata": {
        "id": "WzGkw2T9tRtv",
        "colab_type": "text"
      },
      "source": [
        "## import libraries"
      ]
    },
    {
      "cell_type": "code",
      "metadata": {
        "id": "u7byV_A9scn-",
        "colab_type": "code",
        "colab": {
          "base_uri": "https://localhost:8080/",
          "height": 54
        },
        "outputId": "ff9847a2-02ed-4671-83f0-6a5885906fff"
      },
      "source": [
        "%%time\n",
        "%%capture\n",
        "!apt update\n",
        "!apt upgrade\n",
        "!apt install gdal-bin python-gdal python3-gdal\n",
        "# Install rtree - Geopandas requirment\n",
        "!apt install python3-rtree\n",
        "# Install Geopandas\n",
        "!pip install git+git://github.com/geopandas/geopandas.git\n",
        "# Install descartes - Geopandas requirment\n",
        "!pip install descartes\n",
        "!pip install memory_profiler\n",
        "\n",
        "#contextily\n",
        "!pip3 install contextily"
      ],
      "execution_count": 29,
      "outputs": [
        {
          "output_type": "stream",
          "text": [
            "CPU times: user 1.22 s, sys: 272 ms, total: 1.49 s\n",
            "Wall time: 6min 5s\n"
          ],
          "name": "stdout"
        }
      ]
    },
    {
      "cell_type": "code",
      "metadata": {
        "id": "wegOtULbsJPt",
        "colab_type": "code",
        "colab": {
          "base_uri": "https://localhost:8080/",
          "height": 74
        },
        "outputId": "33b9c668-680b-47bd-eea7-750e38ae22ad"
      },
      "source": [
        "import pandas as pd\n",
        "import numpy as np\n",
        "from shapely.geometry import box\n",
        "import geopandas as gpd\n",
        "import matplotlib.pyplot as plt\n",
        "from textwrap import wrap\n",
        "from sklearn import preprocessing\n",
        "import contextily as ctx\n",
        "import seaborn as sns\n",
        "\n",
        "plt.style.use('seaborn-colorblind')"
      ],
      "execution_count": 49,
      "outputs": [
        {
          "output_type": "stream",
          "text": [
            "/usr/local/lib/python3.6/dist-packages/statsmodels/tools/_testing.py:19: FutureWarning: pandas.util.testing is deprecated. Use the functions in the public API at pandas.testing instead.\n",
            "  import pandas.util.testing as tm\n"
          ],
          "name": "stderr"
        }
      ]
    },
    {
      "cell_type": "markdown",
      "metadata": {
        "id": "qJUfJtTutwWN",
        "colab_type": "text"
      },
      "source": [
        "## check outputs"
      ]
    },
    {
      "cell_type": "code",
      "metadata": {
        "id": "LQOTUiMttvuL",
        "colab_type": "code",
        "colab": {}
      },
      "source": [
        "hzdCurves = pd.read_csv(output / 'hazard_curve-mean-PGA_2.csv', header = 1)\n",
        "events = pd.read_csv(output / 'events_2.csv')\n",
        "gmf = pd.read_csv(output / 'gmf-data_2.csv')"
      ],
      "execution_count": 46,
      "outputs": []
    },
    {
      "cell_type": "code",
      "metadata": {
        "id": "cIFfxCG8uwsq",
        "colab_type": "code",
        "colab": {
          "base_uri": "https://localhost:8080/",
          "height": 35
        },
        "outputId": "35b7a7f8-49f6-4611-c8fe-e6b5608ac646"
      },
      "source": [
        "len(hzdCurves)"
      ],
      "execution_count": 56,
      "outputs": [
        {
          "output_type": "execute_result",
          "data": {
            "text/plain": [
              "76"
            ]
          },
          "metadata": {
            "tags": []
          },
          "execution_count": 56
        }
      ]
    },
    {
      "cell_type": "code",
      "metadata": {
        "id": "giapazXvu1Mx",
        "colab_type": "code",
        "colab": {
          "base_uri": "https://localhost:8080/",
          "height": 198
        },
        "outputId": "bc45c3af-213a-44f4-9d49-6c7743cc2a4a"
      },
      "source": [
        "hzdCurves.iloc[:5,:6]"
      ],
      "execution_count": 45,
      "outputs": [
        {
          "output_type": "execute_result",
          "data": {
            "text/html": [
              "<div>\n",
              "<style scoped>\n",
              "    .dataframe tbody tr th:only-of-type {\n",
              "        vertical-align: middle;\n",
              "    }\n",
              "\n",
              "    .dataframe tbody tr th {\n",
              "        vertical-align: top;\n",
              "    }\n",
              "\n",
              "    .dataframe thead th {\n",
              "        text-align: right;\n",
              "    }\n",
              "</style>\n",
              "<table border=\"1\" class=\"dataframe\">\n",
              "  <thead>\n",
              "    <tr style=\"text-align: right;\">\n",
              "      <th></th>\n",
              "      <th>lon</th>\n",
              "      <th>lat</th>\n",
              "      <th>depth</th>\n",
              "      <th>poe-0.1000000</th>\n",
              "      <th>poe-0.4000000</th>\n",
              "      <th>poe-0.6000000</th>\n",
              "    </tr>\n",
              "  </thead>\n",
              "  <tbody>\n",
              "    <tr>\n",
              "      <th>0</th>\n",
              "      <td>174.82111</td>\n",
              "      <td>-41.1643</td>\n",
              "      <td>0.0</td>\n",
              "      <td>0.068003</td>\n",
              "      <td>0.003804</td>\n",
              "      <td>0.001249</td>\n",
              "    </tr>\n",
              "    <tr>\n",
              "      <th>1</th>\n",
              "      <td>174.72530</td>\n",
              "      <td>-41.2838</td>\n",
              "      <td>0.0</td>\n",
              "      <td>0.069522</td>\n",
              "      <td>0.003944</td>\n",
              "      <td>0.001561</td>\n",
              "    </tr>\n",
              "    <tr>\n",
              "      <th>2</th>\n",
              "      <td>174.78860</td>\n",
              "      <td>-41.2526</td>\n",
              "      <td>0.0</td>\n",
              "      <td>0.069570</td>\n",
              "      <td>0.003742</td>\n",
              "      <td>0.001467</td>\n",
              "    </tr>\n",
              "    <tr>\n",
              "      <th>3</th>\n",
              "      <td>174.80280</td>\n",
              "      <td>-41.2495</td>\n",
              "      <td>0.0</td>\n",
              "      <td>0.066316</td>\n",
              "      <td>0.003990</td>\n",
              "      <td>0.001311</td>\n",
              "    </tr>\n",
              "    <tr>\n",
              "      <th>4</th>\n",
              "      <td>174.76871</td>\n",
              "      <td>-41.2825</td>\n",
              "      <td>0.0</td>\n",
              "      <td>0.069000</td>\n",
              "      <td>0.003820</td>\n",
              "      <td>0.001374</td>\n",
              "    </tr>\n",
              "  </tbody>\n",
              "</table>\n",
              "</div>"
            ],
            "text/plain": [
              "         lon      lat  depth  poe-0.1000000  poe-0.4000000  poe-0.6000000\n",
              "0  174.82111 -41.1643    0.0       0.068003       0.003804       0.001249\n",
              "1  174.72530 -41.2838    0.0       0.069522       0.003944       0.001561\n",
              "2  174.78860 -41.2526    0.0       0.069570       0.003742       0.001467\n",
              "3  174.80280 -41.2495    0.0       0.066316       0.003990       0.001311\n",
              "4  174.76871 -41.2825    0.0       0.069000       0.003820       0.001374"
            ]
          },
          "metadata": {
            "tags": []
          },
          "execution_count": 45
        }
      ]
    },
    {
      "cell_type": "code",
      "metadata": {
        "id": "ub5Oip9u9Xv1",
        "colab_type": "code",
        "colab": {}
      },
      "source": [
        "curveFile = output / 'hazard_curve-mean-PGA_2.csv'"
      ],
      "execution_count": 55,
      "outputs": []
    },
    {
      "cell_type": "code",
      "metadata": {
        "id": "EMuEXba94N-I",
        "colab_type": "code",
        "colab": {}
      },
      "source": [
        "def getHazCurves(hazCurveFile, IMs=None, row=0):\n",
        "    \"\"\"\n",
        "    Input: OQ hazard curve file, IMs targets (array), row number (linked to site)\n",
        "    Output: IMs array, hazPoes (corresponding probability of exceedences),\n",
        "    hazRates (corresponding rate of hazard - PDF )\n",
        "    \"\"\"\n",
        "    if IMs is None:\n",
        "        IMs=np.arange(0,10,0.01)\n",
        "    # HAZARD CURVE\n",
        "    fName = hazCurveFile\n",
        "    df = pd.read_csv(fName, header=1)\n",
        "    # Reformat columns names\n",
        "    oqIMs = [x.split('-')[-1] for x in df.columns[3:]]\n",
        "    oqIMs = [float(x) for x in oqIMs]\n",
        "    # Interp haz poes at IMs\n",
        "    hazPoes=np.interp(IMs, oqIMs, df.loc[row][3:])\n",
        "    # Calculate the rate of each IM\n",
        "    hazRates=[hazPoes[i]-hazPoes[i+1] for i in range(0,len(hazPoes)-1)]\n",
        "\n",
        "    return IMs, hazPoes, hazRates"
      ],
      "execution_count": 53,
      "outputs": []
    },
    {
      "cell_type": "code",
      "metadata": {
        "id": "f1Crp5BF8m5-",
        "colab_type": "code",
        "colab": {}
      },
      "source": [
        "IM, Poes, Rates = getHazCurves(curveFile)"
      ],
      "execution_count": 58,
      "outputs": []
    },
    {
      "cell_type": "code",
      "metadata": {
        "id": "YD1rDNqU9muJ",
        "colab_type": "code",
        "colab": {
          "base_uri": "https://localhost:8080/",
          "height": 265
        },
        "outputId": "2da67d17-8e28-4e40-cbd3-a07a55552d16"
      },
      "source": [
        "fig, (ax1) = plt.subplots(nrows=1, ncols=1)\n",
        "ax1.plot(IM, Poes)\n",
        "ax1.set_yscale(\"log\")"
      ],
      "execution_count": 65,
      "outputs": [
        {
          "output_type": "display_data",
          "data": {
            "image/png": "[encoded data removed]",
            "text/plain": [
              "<Figure size 432x288 with 1 Axes>"
            ]
          },
          "metadata": {
            "tags": [],
            "needs_background": "light"
          }
        }
      ]
    },
    {
      "cell_type": "code",
      "metadata": {
        "id": "b9vOLABb9u85",
        "colab_type": "code",
        "colab": {}
      },
      "source": [
        ""
      ],
      "execution_count": null,
      "outputs": []
    }
  ]
}