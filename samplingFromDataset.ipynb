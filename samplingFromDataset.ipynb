{
  "nbformat": 4,
  "nbformat_minor": 0,
  "metadata": {
    "colab": {
      "name": "samplingFromDataset.ipynb",
      "provenance": [],
      "collapsed_sections": [],
      "mount_file_id": "1LKmZkpaobmxlgzWNqLZga_eriHho_OMa",
      "authorship_tag": "ABX9TyOqWdliK0g60XRZqc8bz9pP",
      "include_colab_link": true
    },
    "kernelspec": {
      "name": "python3",
      "display_name": "Python 3"
    }
  },
  "cells": [
    {
      "cell_type": "markdown",
      "metadata": {
        "id": "view-in-github",
        "colab_type": "text"
      },
      "source": [
        "<a href=\"https://colab.research.google.com/github/37stu37/AI/blob/master/samplingFromDataset.ipynb\" target=\"_parent\"><img src=\"https://colab.research.google.com/assets/colab-badge.svg\" alt=\"Open In Colab\"/></a>"
      ]
    },
    {
      "cell_type": "code",
      "metadata": {
        "id": "egnS0SqMwx-W",
        "colab_type": "code",
        "colab": {}
      },
      "source": [
        "import os\n",
        "import numpy as np\n",
        "import pandas as pd\n",
        "from sklearn.utils import shuffle"
      ],
      "execution_count": 0,
      "outputs": []
    },
    {
      "cell_type": "code",
      "metadata": {
        "id": "PIGsYK_2xBVI",
        "colab_type": "code",
        "outputId": "498ce99d-5f3b-4a10-cfde-5dcd42bceb4e",
        "colab": {
          "base_uri": "https://localhost:8080/",
          "height": 34
        }
      },
      "source": [
        "os.chdir('/content/drive/My Drive/04_Cloud/01_Work/GNS/CDF_2019/4Rob/output_algorithm_data_sample')\n",
        "!ls"
      ],
      "execution_count": 157,
      "outputs": [
        {
          "output_type": "stream",
          "text": [
            "36830_20000.csv  sample100000.csv  sample50K.csv  samplingFromDataset.ipynb\n"
          ],
          "name": "stdout"
        }
      ]
    },
    {
      "cell_type": "code",
      "metadata": {
        "id": "YHZMiBHMxJlb",
        "colab_type": "code",
        "colab": {}
      },
      "source": [
        "data = pd.read_csv('36830_20000.csv')"
      ],
      "execution_count": 0,
      "outputs": []
    },
    {
      "cell_type": "code",
      "metadata": {
        "id": "dAEfI-e1zuhD",
        "colab_type": "code",
        "outputId": "f5819240-7fcc-4ed6-bf6d-dc8c076e68f3",
        "colab": {
          "base_uri": "https://localhost:8080/",
          "height": 85
        }
      },
      "source": [
        "data.columns"
      ],
      "execution_count": 159,
      "outputs": [
        {
          "output_type": "execute_result",
          "data": {
            "text/plain": [
              "Index(['Unnamed: 0', 'edge_ID', 'ID_unique', 'ID_type', 'X_node', 'Y_node',\n",
              "       'ID_unique_haz', 'ID_type_haz', 'X_node_haz', 'Y_node_haz',\n",
              "       'event_magnitude', 'rng', 'scenario'],\n",
              "      dtype='object')"
            ]
          },
          "metadata": {
            "tags": []
          },
          "execution_count": 159
        }
      ]
    },
    {
      "cell_type": "code",
      "metadata": {
        "id": "M5ClMW04zvA0",
        "colab_type": "code",
        "colab": {}
      },
      "source": [
        "sample = data.sample(50000, random_state=0)\n",
        "sample.drop(['Unnamed: 0', 'edge_ID', 'scenario'], axis=1, inplace=True)"
      ],
      "execution_count": 0,
      "outputs": []
    },
    {
      "cell_type": "code",
      "metadata": {
        "id": "2pThHMTH8Ei9",
        "colab_type": "code",
        "outputId": "055f1b36-a22c-4493-9232-2b2f0ec8a578",
        "colab": {
          "base_uri": "https://localhost:8080/",
          "height": 68
        }
      },
      "source": [
        "sample.columns"
      ],
      "execution_count": 161,
      "outputs": [
        {
          "output_type": "execute_result",
          "data": {
            "text/plain": [
              "Index(['ID_unique', 'ID_type', 'X_node', 'Y_node', 'ID_unique_haz',\n",
              "       'ID_type_haz', 'X_node_haz', 'Y_node_haz', 'event_magnitude', 'rng'],\n",
              "      dtype='object')"
            ]
          },
          "metadata": {
            "tags": []
          },
          "execution_count": 161
        }
      ]
    },
    {
      "cell_type": "code",
      "metadata": {
        "id": "tmdg5S3oVYFs",
        "colab_type": "code",
        "colab": {}
      },
      "source": [
        "sample.columns = ['cat_0', 'num_0', 'num_1', 'num_2', 'cat_1','num_3', 'num_4', 'num_5', 'num_6', 'num_7']"
      ],
      "execution_count": 0,
      "outputs": []
    },
    {
      "cell_type": "code",
      "metadata": {
        "id": "Re7L1RUi8Xvw",
        "colab_type": "code",
        "colab": {}
      },
      "source": [
        "sample['target'] = True"
      ],
      "execution_count": 0,
      "outputs": []
    },
    {
      "cell_type": "code",
      "metadata": {
        "id": "XZkvn1fXZVjy",
        "colab_type": "code",
        "colab": {}
      },
      "source": [
        "copy = sample.copy()"
      ],
      "execution_count": 0,
      "outputs": []
    },
    {
      "cell_type": "code",
      "metadata": {
        "id": "6To2EbzcZjsT",
        "colab_type": "code",
        "colab": {}
      },
      "source": [
        "copy.target = False"
      ],
      "execution_count": 0,
      "outputs": []
    },
    {
      "cell_type": "code",
      "metadata": {
        "id": "r9_Da4J5aUyT",
        "colab_type": "code",
        "colab": {}
      },
      "source": [
        "num_cols = [col for col in copy if col.startswith('num')]\n",
        "cat_cols = [col for col in copy if col.startswith('cat')]"
      ],
      "execution_count": 0,
      "outputs": []
    },
    {
      "cell_type": "code",
      "metadata": {
        "id": "3s8CJ9dNgW37",
        "colab_type": "code",
        "colab": {
          "base_uri": "https://localhost:8080/",
          "height": 419
        },
        "outputId": "3123dc30-47dc-4252-a030-2c232bb59235"
      },
      "source": [
        "copy"
      ],
      "execution_count": 167,
      "outputs": [
        {
          "output_type": "execute_result",
          "data": {
            "text/html": [
              "<div>\n",
              "<style scoped>\n",
              "    .dataframe tbody tr th:only-of-type {\n",
              "        vertical-align: middle;\n",
              "    }\n",
              "\n",
              "    .dataframe tbody tr th {\n",
              "        vertical-align: top;\n",
              "    }\n",
              "\n",
              "    .dataframe thead th {\n",
              "        text-align: right;\n",
              "    }\n",
              "</style>\n",
              "<table border=\"1\" class=\"dataframe\">\n",
              "  <thead>\n",
              "    <tr style=\"text-align: right;\">\n",
              "      <th></th>\n",
              "      <th>cat_0</th>\n",
              "      <th>num_0</th>\n",
              "      <th>num_1</th>\n",
              "      <th>num_2</th>\n",
              "      <th>cat_1</th>\n",
              "      <th>num_3</th>\n",
              "      <th>num_4</th>\n",
              "      <th>num_5</th>\n",
              "      <th>num_6</th>\n",
              "      <th>num_7</th>\n",
              "      <th>target</th>\n",
              "    </tr>\n",
              "  </thead>\n",
              "  <tbody>\n",
              "    <tr>\n",
              "      <th>14296071</th>\n",
              "      <td>8_61</td>\n",
              "      <td>8</td>\n",
              "      <td>1371165</td>\n",
              "      <td>5192748</td>\n",
              "      <td>2_1</td>\n",
              "      <td>2</td>\n",
              "      <td>1372556</td>\n",
              "      <td>5192574</td>\n",
              "      <td>6.51662</td>\n",
              "      <td>0.299849</td>\n",
              "      <td>False</td>\n",
              "    </tr>\n",
              "    <tr>\n",
              "      <th>17062545</th>\n",
              "      <td>8_19</td>\n",
              "      <td>8</td>\n",
              "      <td>1371500</td>\n",
              "      <td>5191762</td>\n",
              "      <td>2_1</td>\n",
              "      <td>2</td>\n",
              "      <td>1372556</td>\n",
              "      <td>5192574</td>\n",
              "      <td>6.65542</td>\n",
              "      <td>0.469833</td>\n",
              "      <td>False</td>\n",
              "    </tr>\n",
              "    <tr>\n",
              "      <th>12244980</th>\n",
              "      <td>7_112</td>\n",
              "      <td>7</td>\n",
              "      <td>1366798</td>\n",
              "      <td>5195570</td>\n",
              "      <td>2_1</td>\n",
              "      <td>2</td>\n",
              "      <td>1372556</td>\n",
              "      <td>5192574</td>\n",
              "      <td>5.52073</td>\n",
              "      <td>0.227667</td>\n",
              "      <td>False</td>\n",
              "    </tr>\n",
              "    <tr>\n",
              "      <th>6660315</th>\n",
              "      <td>7_247</td>\n",
              "      <td>7</td>\n",
              "      <td>1366658</td>\n",
              "      <td>5194416</td>\n",
              "      <td>2_1</td>\n",
              "      <td>2</td>\n",
              "      <td>1372556</td>\n",
              "      <td>5192574</td>\n",
              "      <td>5.57037</td>\n",
              "      <td>0.358402</td>\n",
              "      <td>False</td>\n",
              "    </tr>\n",
              "    <tr>\n",
              "      <th>2146385</th>\n",
              "      <td>7_636</td>\n",
              "      <td>7</td>\n",
              "      <td>1369766</td>\n",
              "      <td>5192655</td>\n",
              "      <td>2_1</td>\n",
              "      <td>2</td>\n",
              "      <td>1372556</td>\n",
              "      <td>5192574</td>\n",
              "      <td>6.13108</td>\n",
              "      <td>0.493891</td>\n",
              "      <td>False</td>\n",
              "    </tr>\n",
              "    <tr>\n",
              "      <th>...</th>\n",
              "      <td>...</td>\n",
              "      <td>...</td>\n",
              "      <td>...</td>\n",
              "      <td>...</td>\n",
              "      <td>...</td>\n",
              "      <td>...</td>\n",
              "      <td>...</td>\n",
              "      <td>...</td>\n",
              "      <td>...</td>\n",
              "      <td>...</td>\n",
              "      <td>...</td>\n",
              "    </tr>\n",
              "    <tr>\n",
              "      <th>10996768</th>\n",
              "      <td>7_462</td>\n",
              "      <td>7</td>\n",
              "      <td>1372229</td>\n",
              "      <td>5192626</td>\n",
              "      <td>2_1</td>\n",
              "      <td>2</td>\n",
              "      <td>1372556</td>\n",
              "      <td>5192574</td>\n",
              "      <td>20.06174</td>\n",
              "      <td>0.177909</td>\n",
              "      <td>False</td>\n",
              "    </tr>\n",
              "    <tr>\n",
              "      <th>10770548</th>\n",
              "      <td>7_800</td>\n",
              "      <td>7</td>\n",
              "      <td>1364831</td>\n",
              "      <td>5189964</td>\n",
              "      <td>2_1</td>\n",
              "      <td>2</td>\n",
              "      <td>1372556</td>\n",
              "      <td>5192574</td>\n",
              "      <td>215.40120</td>\n",
              "      <td>0.001037</td>\n",
              "      <td>False</td>\n",
              "    </tr>\n",
              "    <tr>\n",
              "      <th>15571536</th>\n",
              "      <td>7_892</td>\n",
              "      <td>7</td>\n",
              "      <td>1372665</td>\n",
              "      <td>5194728</td>\n",
              "      <td>2_1</td>\n",
              "      <td>2</td>\n",
              "      <td>1372556</td>\n",
              "      <td>5192574</td>\n",
              "      <td>6.66418</td>\n",
              "      <td>0.341625</td>\n",
              "      <td>False</td>\n",
              "    </tr>\n",
              "    <tr>\n",
              "      <th>13484078</th>\n",
              "      <td>7_560</td>\n",
              "      <td>7</td>\n",
              "      <td>1371475</td>\n",
              "      <td>5190363</td>\n",
              "      <td>2_1</td>\n",
              "      <td>2</td>\n",
              "      <td>1372556</td>\n",
              "      <td>5192574</td>\n",
              "      <td>65.09570</td>\n",
              "      <td>0.084328</td>\n",
              "      <td>False</td>\n",
              "    </tr>\n",
              "    <tr>\n",
              "      <th>17220638</th>\n",
              "      <td>6_240</td>\n",
              "      <td>6</td>\n",
              "      <td>1371679</td>\n",
              "      <td>5193992</td>\n",
              "      <td>2_1</td>\n",
              "      <td>2</td>\n",
              "      <td>1372556</td>\n",
              "      <td>5192574</td>\n",
              "      <td>15.05441</td>\n",
              "      <td>0.149368</td>\n",
              "      <td>False</td>\n",
              "    </tr>\n",
              "  </tbody>\n",
              "</table>\n",
              "<p>50000 rows × 11 columns</p>\n",
              "</div>"
            ],
            "text/plain": [
              "          cat_0  num_0    num_1    num_2  ...    num_5      num_6     num_7  target\n",
              "14296071   8_61      8  1371165  5192748  ...  5192574    6.51662  0.299849   False\n",
              "17062545   8_19      8  1371500  5191762  ...  5192574    6.65542  0.469833   False\n",
              "12244980  7_112      7  1366798  5195570  ...  5192574    5.52073  0.227667   False\n",
              "6660315   7_247      7  1366658  5194416  ...  5192574    5.57037  0.358402   False\n",
              "2146385   7_636      7  1369766  5192655  ...  5192574    6.13108  0.493891   False\n",
              "...         ...    ...      ...      ...  ...      ...        ...       ...     ...\n",
              "10996768  7_462      7  1372229  5192626  ...  5192574   20.06174  0.177909   False\n",
              "10770548  7_800      7  1364831  5189964  ...  5192574  215.40120  0.001037   False\n",
              "15571536  7_892      7  1372665  5194728  ...  5192574    6.66418  0.341625   False\n",
              "13484078  7_560      7  1371475  5190363  ...  5192574   65.09570  0.084328   False\n",
              "17220638  6_240      6  1371679  5193992  ...  5192574   15.05441  0.149368   False\n",
              "\n",
              "[50000 rows x 11 columns]"
            ]
          },
          "metadata": {
            "tags": []
          },
          "execution_count": 167
        }
      ]
    },
    {
      "cell_type": "code",
      "metadata": {
        "id": "kxNhRxHoc-n7",
        "colab_type": "code",
        "colab": {}
      },
      "source": [
        "copy['first'] = np.random.randint(1, 10, copy.shape[0])\n",
        "copy['last'] = np.random.randint(1, 1000, copy.shape[0])\n",
        "\n",
        "for c in cat_cols:\n",
        "  copy[str(c)] = copy['last'].map(str) + \"_\" + copy['first'].map(str)\n",
        "\n",
        "for c in num_cols:\n",
        "  copy[c] = -1\n",
        "\n",
        "copy.drop(['first', 'last'], axis=1, inplace=True)"
      ],
      "execution_count": 0,
      "outputs": []
    },
    {
      "cell_type": "code",
      "metadata": {
        "id": "3Yf2MQfYnNAw",
        "colab_type": "code",
        "colab": {
          "base_uri": "https://localhost:8080/",
          "height": 493
        },
        "outputId": "de7d194e-598d-4697-8633-44dba0513d35"
      },
      "source": [
        "sample, copy"
      ],
      "execution_count": 169,
      "outputs": [
        {
          "output_type": "execute_result",
          "data": {
            "text/plain": [
              "(          cat_0  num_0    num_1    num_2  ...    num_5      num_6     num_7  target\n",
              " 14296071   8_61      8  1371165  5192748  ...  5192574    6.51662  0.299849    True\n",
              " 17062545   8_19      8  1371500  5191762  ...  5192574    6.65542  0.469833    True\n",
              " 12244980  7_112      7  1366798  5195570  ...  5192574    5.52073  0.227667    True\n",
              " 6660315   7_247      7  1366658  5194416  ...  5192574    5.57037  0.358402    True\n",
              " 2146385   7_636      7  1369766  5192655  ...  5192574    6.13108  0.493891    True\n",
              " ...         ...    ...      ...      ...  ...      ...        ...       ...     ...\n",
              " 10996768  7_462      7  1372229  5192626  ...  5192574   20.06174  0.177909    True\n",
              " 10770548  7_800      7  1364831  5189964  ...  5192574  215.40120  0.001037    True\n",
              " 15571536  7_892      7  1372665  5194728  ...  5192574    6.66418  0.341625    True\n",
              " 13484078  7_560      7  1371475  5190363  ...  5192574   65.09570  0.084328    True\n",
              " 17220638  6_240      6  1371679  5193992  ...  5192574   15.05441  0.149368    True\n",
              " \n",
              " [50000 rows x 11 columns],\n",
              "           cat_0  num_0  num_1  num_2  cat_1  ...  num_4  num_5  num_6  num_7  target\n",
              " 14296071  732_1     -1     -1     -1  732_1  ...     -1     -1     -1     -1   False\n",
              " 17062545  243_2     -1     -1     -1  243_2  ...     -1     -1     -1     -1   False\n",
              " 12244980  583_1     -1     -1     -1  583_1  ...     -1     -1     -1     -1   False\n",
              " 6660315   581_3     -1     -1     -1  581_3  ...     -1     -1     -1     -1   False\n",
              " 2146385   423_5     -1     -1     -1  423_5  ...     -1     -1     -1     -1   False\n",
              " ...         ...    ...    ...    ...    ...  ...    ...    ...    ...    ...     ...\n",
              " 10996768  838_8     -1     -1     -1  838_8  ...     -1     -1     -1     -1   False\n",
              " 10770548  656_4     -1     -1     -1  656_4  ...     -1     -1     -1     -1   False\n",
              " 15571536  506_6     -1     -1     -1  506_6  ...     -1     -1     -1     -1   False\n",
              " 13484078  277_4     -1     -1     -1  277_4  ...     -1     -1     -1     -1   False\n",
              " 17220638  194_7     -1     -1     -1  194_7  ...     -1     -1     -1     -1   False\n",
              " \n",
              " [50000 rows x 11 columns])"
            ]
          },
          "metadata": {
            "tags": []
          },
          "execution_count": 169
        }
      ]
    },
    {
      "cell_type": "code",
      "metadata": {
        "id": "xClzCLoBlNAV",
        "colab_type": "code",
        "colab": {}
      },
      "source": [
        "sample.reset_index(drop=True, inplace=True)\n",
        "copy.reset_index(drop=True, inplace=True)\n",
        "sample_concate = pd.concat([sample, copy])"
      ],
      "execution_count": 0,
      "outputs": []
    },
    {
      "cell_type": "code",
      "metadata": {
        "id": "JZqFJ03coJQ9",
        "colab_type": "code",
        "colab": {}
      },
      "source": [
        "sample_concate = shuffle(sample_concate); sample_concate.reset_index(inplace=True, drop=True)"
      ],
      "execution_count": 0,
      "outputs": []
    },
    {
      "cell_type": "code",
      "metadata": {
        "id": "Z7Tq8m4UmtYv",
        "colab_type": "code",
        "colab": {
          "base_uri": "https://localhost:8080/",
          "height": 289
        },
        "outputId": "ead26f0f-36b1-4b13-b504-8aca5ab07b30"
      },
      "source": [
        "sample_concate.head(), sample_concate.tail()"
      ],
      "execution_count": 173,
      "outputs": [
        {
          "output_type": "execute_result",
          "data": {
            "text/plain": [
              "(   cat_0  num_0    num_1    num_2  ...    num_5      num_6     num_7  target\n",
              " 0   59_9     -1       -1       -1  ...       -1   -1.00000 -1.000000   False\n",
              " 1  7_760      7  1365677  5189798  ...  5192574   48.61588  0.043129    True\n",
              " 2  7_178      7  1365025  5198211  ...  5192574  123.07150  0.004367    True\n",
              " 3  7_527      7  1371038  5188935  ...  5192574  192.19397  0.003022    True\n",
              " 4   38_4     -1       -1       -1  ...       -1   -1.00000 -1.000000   False\n",
              " \n",
              " [5 rows x 11 columns],\n",
              "        cat_0  num_0    num_1    num_2  ...    num_5    num_6     num_7  target\n",
              " 99995  958_8     -1       -1       -1  ...       -1 -1.00000 -1.000000   False\n",
              " 99996  601_6     -1       -1       -1  ...       -1 -1.00000 -1.000000   False\n",
              " 99997  3_243      3  1375626  5185962  ...  5192574  5.91108  0.302989    True\n",
              " 99998  460_7     -1       -1       -1  ...       -1 -1.00000 -1.000000   False\n",
              " 99999  3_277      3  1374809  5191218  ...  5192574  6.71627  0.313561    True\n",
              " \n",
              " [5 rows x 11 columns])"
            ]
          },
          "metadata": {
            "tags": []
          },
          "execution_count": 173
        }
      ]
    },
    {
      "cell_type": "code",
      "metadata": {
        "id": "Zqo7sZ6h8FUr",
        "colab_type": "code",
        "colab": {}
      },
      "source": [
        "sample_concate.to_csv('/content/drive/My Drive/04_Cloud/01_Work/GNS/CDF_2019/4Rob/output_algorithm_data_sample/sample{}.csv'.format(len(sample_concate)), index=False)"
      ],
      "execution_count": 0,
      "outputs": []
    },
    {
      "cell_type": "code",
      "metadata": {
        "id": "d-4uMigomcSb",
        "colab_type": "code",
        "colab": {
          "base_uri": "https://localhost:8080/",
          "height": 34
        },
        "outputId": "a0634be9-b74d-4232-c3e8-a202e9c36175"
      },
      "source": [
        "!ls"
      ],
      "execution_count": 175,
      "outputs": [
        {
          "output_type": "stream",
          "text": [
            "36830_20000.csv  sample100000.csv  sample50K.csv  samplingFromDataset.ipynb\n"
          ],
          "name": "stdout"
        }
      ]
    },
    {
      "cell_type": "code",
      "metadata": {
        "id": "t1bLrW_wupIe",
        "colab_type": "code",
        "colab": {}
      },
      "source": [
        ""
      ],
      "execution_count": 0,
      "outputs": []
    }
  ]
}